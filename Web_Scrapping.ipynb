{
 "cells": [
  {
   "cell_type": "markdown",
   "id": "50613f1f-78ae-4e93-a1c5-3ffe4ac2be6f",
   "metadata": {},
   "source": [
    "# Analysis of the renting prices of the apartments in Berlin and Hamburg\n",
    "## Pt. 1: Getting the data\n",
    "\n",
    "This is the first part of the project on comparing the renting prices of the apartments in Berlin and Hamburg using immpobilienscout24. In this part I scrap the data from several pages of the website using selenium-package. One of the advantages of selenium for this particular project was the ability to manually go through CAPTCHA, as they included choosing the objects in the correct order.\n",
    "\n",
    "The project is divided as follows: first, necessary packages are installed. Then the data is scraped for Berlin apartments and saved in the txt-file. Next, the data is scraped for the apartments in Hamburg and saved in the txt-file. "
   ]
  },
  {
   "cell_type": "markdown",
   "id": "b9dd2e9e-0757-457d-9f13-8d1df3c9a8d1",
   "metadata": {},
   "source": [
    "### Loading the packages"
   ]
  },
  {
   "cell_type": "code",
   "execution_count": 143,
   "id": "5160a2ba-8d66-49a0-a510-4ad485c6d778",
   "metadata": {},
   "outputs": [],
   "source": [
    "import selenium\n",
    "import time\n",
    "from selenium import webdriver\n",
    "from webdriver_manager.chrome import ChromeDriverManager\n",
    "from selenium.webdriver.common.by import By"
   ]
  },
  {
   "cell_type": "markdown",
   "id": "7595635c-2f5f-42f6-8b3b-dd8c4c57aab8",
   "metadata": {},
   "source": [
    "### Berlin"
   ]
  },
  {
   "cell_type": "code",
   "execution_count": 136,
   "id": "2d4c4f35-d22d-458e-be4f-520125ea281e",
   "metadata": {},
   "outputs": [
    {
     "name": "stderr",
     "output_type": "stream",
     "text": [
      "/var/folders/lf/8qjp1g_j7v5c_q88rv2bcl5w0000gn/T/ipykernel_58622/1503906442.py:1: DeprecationWarning: executable_path has been deprecated, please pass in a Service object\n",
      "  driver = webdriver.Chrome(ChromeDriverManager().install())\n"
     ]
    }
   ],
   "source": [
    "driver = webdriver.Chrome(ChromeDriverManager().install())"
   ]
  },
  {
   "cell_type": "code",
   "execution_count": 137,
   "id": "8cbb4b6d-1a66-45ae-ab5e-1753982295a3",
   "metadata": {},
   "outputs": [],
   "source": [
    "# Loading the page\n",
    "page_url = \"https://www.immobilienscout24.de/Suche/de/berlin/berlin/wohnung-mieten?numberofrooms=3.0-&livingspace=90.0-&enteredFrom=one_step_search\"\n",
    "driver.get(page_url)\n",
    "# At this point CAPTCHA appears and I go to the page and solve the puzzles or whatever appears. After this, the website opens and in ca. 5 seconds cookies acceptance is asked (which I also accept manually)"
   ]
  },
  {
   "cell_type": "code",
   "execution_count": 146,
   "id": "740e92f3-e667-4e32-abea-ed70a4ed591b",
   "metadata": {},
   "outputs": [],
   "source": [
    "# Collecting the name of the display\n",
    "names = driver.find_elements(By.TAG_NAME, 'h5')\n",
    "\n",
    "# Collecting the main information about the apartment (such as renting price, the number of the rooms, the size of the apartments etc.)\n",
    "descriptions = driver.find_elements(By.CLASS_NAME, 'result-list-entry__criteria')\n",
    "\n",
    "# Collecting adresses\n",
    "adresses = driver.find_elements(By.CLASS_NAME, 'result-list-entry__address')"
   ]
  },
  {
   "cell_type": "code",
   "execution_count": 147,
   "id": "c2d73269-e855-4814-a482-2feb2801bcd7",
   "metadata": {},
   "outputs": [],
   "source": [
    "# Creating a list for saving the data\n",
    "berlin_apartments = []\n",
    "\n",
    "for name in names:\n",
    "    berlin_apartments.append({'display' : name.text})\n",
    "\n",
    "for description in descriptions:\n",
    "    berlin_apartments.append({'description' : description.text})\n",
    "\n",
    "for adress in adresses:\n",
    "    berlin_apartments.append({'adress' : adress.text})\n",
    "\n"
   ]
  },
  {
   "cell_type": "code",
   "execution_count": 148,
   "id": "d37f3b64-6ce7-4ab4-8658-2eff7e520fde",
   "metadata": {},
   "outputs": [],
   "source": [
    "# Creating a loop to go through the next couple of pages (2-4) and get the data\n",
    "for i in range(3, 6):\n",
    "    names = []\n",
    "    descriptions = []\n",
    "    adresses = []\n",
    "    \n",
    "    driver.find_element(By.XPATH, '/html/body/div[1]/div/div[2]/div/div[4]/div[1]/div[2]/div[1]/div/div/ul/li['+ str(i) + ']/a').click()\n",
    "    time.sleep(5) #giving some time for page to load\n",
    "    \n",
    "    names = driver.find_elements(By.TAG_NAME, 'h5')\n",
    "    descriptions = (driver.find_elements(By.CLASS_NAME, 'result-list-entry__criteria'))\n",
    "    adresses = driver.find_elements(By.CLASS_NAME, 'result-list-entry__address')\n",
    "    \n",
    "    for name in names:\n",
    "        berlin_apartments.append({'display' : name.text})\n",
    "\n",
    "    for description in descriptions:\n",
    "        berlin_apartments.append({'description' : description.text})\n",
    "    \n",
    "    for adress in adresses:\n",
    "        berlin_apartments.append({'adress' : adress.text})\n"
   ]
  },
  {
   "cell_type": "code",
   "execution_count": 150,
   "id": "dd79ba23-ee76-4dc2-9473-c37e96334b4c",
   "metadata": {},
   "outputs": [],
   "source": [
    "driver.close()"
   ]
  },
  {
   "cell_type": "code",
   "execution_count": 151,
   "id": "7842ce72-be90-4c64-be4d-381e8df7a393",
   "metadata": {},
   "outputs": [
    {
     "name": "stdout",
     "output_type": "stream",
     "text": [
      "Done\n"
     ]
    }
   ],
   "source": [
    "#Saving the data\n",
    "with open('./berlin_apartments.txt', 'w') as f:\n",
    "    for item in berlin_apartments:\n",
    "        f.write(\"%s\\n\" % item)\n",
    "    print('Done')"
   ]
  },
  {
   "cell_type": "markdown",
   "id": "04d72cf3-0ad0-43b5-ac81-1b200e51cb71",
   "metadata": {},
   "source": [
    "### Hamburg"
   ]
  },
  {
   "cell_type": "code",
   "execution_count": 160,
   "id": "48570fb3-ca86-4b39-88e7-990bf17b743b",
   "metadata": {},
   "outputs": [
    {
     "name": "stderr",
     "output_type": "stream",
     "text": [
      "/var/folders/lf/8qjp1g_j7v5c_q88rv2bcl5w0000gn/T/ipykernel_58622/1503906442.py:1: DeprecationWarning: executable_path has been deprecated, please pass in a Service object\n",
      "  driver = webdriver.Chrome(ChromeDriverManager().install())\n"
     ]
    }
   ],
   "source": [
    "driver = webdriver.Chrome(ChromeDriverManager().install())"
   ]
  },
  {
   "cell_type": "code",
   "execution_count": 161,
   "id": "737332bc-5cea-4e31-9975-c350dc5ec100",
   "metadata": {},
   "outputs": [],
   "source": [
    "page_url = \"https://www.immobilienscout24.de/Suche/de/hamburg/hamburg/wohnung-mieten?numberofrooms=3.0-&livingspace=90.0-&enteredFrom=one_step_search\"\n",
    "driver.get(page_url)\n",
    "# At this point CAPTCHA appears and I go to the page and solve the puzzles or whatever appears. After this, the website opens and in ca. 5 seconds cookies acceptance is asked (which I also accept manually)"
   ]
  },
  {
   "cell_type": "code",
   "execution_count": 168,
   "id": "bb1d03c3-c9c8-4270-82fb-2615d9a3aa32",
   "metadata": {},
   "outputs": [],
   "source": [
    "# Collecting the name of the Anzeige\n",
    "names_hamburg = driver.find_elements(By.TAG_NAME, 'h5')\n",
    "\n",
    "# Collecting the main information about the apartment\n",
    "description_hamburg = driver.find_elements(By.CLASS_NAME, 'result-list-entry__criteria')\n",
    "\n",
    "# Collecting adresses\n",
    "adresses = driver.find_elements(By.CLASS_NAME, 'result-list-entry__address')"
   ]
  },
  {
   "cell_type": "code",
   "execution_count": 169,
   "id": "b259e7d7-03a4-45b7-83e1-d67621b042b3",
   "metadata": {},
   "outputs": [],
   "source": [
    "# Creating the dictionary\n",
    "hamburg_apartments = []\n",
    "\n",
    "# Saving the data of the first page\n",
    "for name in names_hamburg:\n",
    "    hamburg_apartments.append({'display' : name.text})\n",
    "    \n",
    "for description in description_hamburg:\n",
    "    hamburg_apartments.append({'description' : description.text})\n",
    "    \n",
    "for adress in adresses:\n",
    "    hamburg_apartments.append({'adress' : adress.text})"
   ]
  },
  {
   "cell_type": "code",
   "execution_count": 170,
   "id": "24bedc66-9c56-4ae2-b431-17bfe2eef9b9",
   "metadata": {},
   "outputs": [],
   "source": [
    "# Creating loop to go through the next couple of pages (2-4) and get the data\n",
    "for i in range(3, 6):\n",
    "    names = []\n",
    "    descriptions = []\n",
    "    adresses = []\n",
    "    \n",
    "    driver.find_element(By.XPATH, '/html/body/div[1]/div/div[2]/div/div[4]/div[1]/div[2]/div[1]/div/div/ul/li['+ str(i) + ']/a').click()\n",
    "    time.sleep(5)\n",
    "    \n",
    "    # Collecting the name of the Anzeige\n",
    "    names_hamburg = driver.find_elements(By.TAG_NAME, 'h5')\n",
    "    # Collecting the main information about the apartment\n",
    "    description_hamburg = driver.find_elements(By.CLASS_NAME, 'result-list-entry__criteria')\n",
    "    \n",
    "    # Saving the data \n",
    "    for name in names_hamburg:\n",
    "        hamburg_apartments.append({'display' : name.text})\n",
    "\n",
    "    for description in description_hamburg:\n",
    "        hamburg_apartments.append({'description' : description.text})\n",
    "        \n",
    "    for adress in adresses:\n",
    "        hamburg_apartments.append({'adress' : adress.text})"
   ]
  },
  {
   "cell_type": "code",
   "execution_count": 175,
   "id": "b168491a-5086-4323-8fdd-635e0088850d",
   "metadata": {},
   "outputs": [],
   "source": [
    "driver.close()"
   ]
  },
  {
   "cell_type": "code",
   "execution_count": 176,
   "id": "8883edf7-416f-425f-a9da-c24fd0784fda",
   "metadata": {},
   "outputs": [
    {
     "name": "stdout",
     "output_type": "stream",
     "text": [
      "Done\n"
     ]
    }
   ],
   "source": [
    "# Saving the data\n",
    "with open('./hamburg_apartments.txt', 'w') as f:\n",
    "    for item in hamburg_apartments:\n",
    "        f.write(\"%s\\n\" % item)\n",
    "    print('Done')"
   ]
  }
 ],
 "metadata": {
  "kernelspec": {
   "display_name": "Python 3 (ipykernel)",
   "language": "python",
   "name": "python3"
  },
  "language_info": {
   "codemirror_mode": {
    "name": "ipython",
    "version": 3
   },
   "file_extension": ".py",
   "mimetype": "text/x-python",
   "name": "python",
   "nbconvert_exporter": "python",
   "pygments_lexer": "ipython3",
   "version": "3.8.12"
  }
 },
 "nbformat": 4,
 "nbformat_minor": 5
}
